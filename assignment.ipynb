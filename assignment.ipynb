{
 "cells": [
  {
   "cell_type": "code",
   "execution_count": 6,
   "id": "f3ef864e",
   "metadata": {},
   "outputs": [],
   "source": [
    " #1.you have to write a fun which will take string and return a len of it without using a inbuilt fun len\n",
    "\n",
    "def test1():\n",
    "    s=input()\n",
    "    c=0\n",
    "   \n",
    "    for i in range(len(s)):\n",
    "               c= c+1\n",
    "    return c\n",
    "            \n",
    "      "
   ]
  },
  {
   "cell_type": "code",
   "execution_count": null,
   "id": "944f894b",
   "metadata": {},
   "outputs": [],
   "source": []
  },
  {
   "cell_type": "code",
   "execution_count": 7,
   "id": "592e059f",
   "metadata": {},
   "outputs": [
    {
     "name": "stdout",
     "output_type": "stream",
     "text": [
      "\"nimmmy'\n"
     ]
    },
    {
     "data": {
      "text/plain": [
       "8"
      ]
     },
     "execution_count": 7,
     "metadata": {},
     "output_type": "execute_result"
    }
   ],
   "source": [
    "test1()"
   ]
  },
  {
   "cell_type": "markdown",
   "id": "acd6aefd",
   "metadata": {},
   "source": [
    "2.write a fun which will be able to print an index of all premitive element which you will pass "
   ]
  },
  {
   "cell_type": "code",
   "execution_count": 14,
   "id": "e414da1e",
   "metadata": {},
   "outputs": [],
   "source": [
    "def fn2(z):\n",
    "    if type(z)==list or tuple:\n",
    "            for i in range(len(z)):\n",
    "                print(i,z[i])\n",
    "    elif type(z)==int or str or complex:\n",
    "                    u=str(z)\n",
    "                    for i in range(len(u)):\n",
    "                        print(i,u[i])\n",
    "    elif type(z)==dict:\n",
    "                        print(z.keys)\n",
    "    else:\n",
    "        print('not primitive element')"
   ]
  },
  {
   "cell_type": "code",
   "execution_count": 16,
   "id": "12adadd2",
   "metadata": {},
   "outputs": [
    {
     "name": "stdout",
     "output_type": "stream",
     "text": [
      "0 4\n",
      "1 7\n",
      "2 8\n",
      "3 6\n"
     ]
    }
   ],
   "source": [
    "fn2([4,7,8,6])"
   ]
  },
  {
   "cell_type": "markdown",
   "id": "f773c3c0",
   "metadata": {},
   "source": [
    "3. Write a fun which will take input as a dict and give me out as a list of all the values \n",
    "even in case of 2 level nesting it should work . "
   ]
  },
  {
   "cell_type": "code",
   "execution_count": 17,
   "id": "0bad319c",
   "metadata": {},
   "outputs": [],
   "source": [
    "def test3():\n",
    "    d={'a':24,\"b\":65,\"c\":88,\"d\":'hai',\"e\":{\"a\":23,\"b\":\"nmm\"}};\n",
    "    u=[]\n",
    "    for i in (d.values()):\n",
    "        #print(i)\n",
    "        if type(i)==dict:\n",
    "                for j in (i.values()):\n",
    "                    u.append(j)\n",
    "        else:\n",
    "                u.append(i)\n",
    "    return u\n"
   ]
  },
  {
   "cell_type": "code",
   "execution_count": 2,
   "id": "490874fb",
   "metadata": {},
   "outputs": [
    {
     "data": {
      "text/plain": [
       "[24, 65, 88, 'hai', 23, 'nmm']"
      ]
     },
     "execution_count": 2,
     "metadata": {},
     "output_type": "execute_result"
    }
   ],
   "source": [
    "test3()"
   ]
  },
  {
   "cell_type": "markdown",
   "id": "29e24f6c",
   "metadata": {},
   "source": [
    "4. write a fun which will take another function as an input and return me an output "
   ]
  },
  {
   "cell_type": "code",
   "execution_count": 18,
   "id": "9a595f6e",
   "metadata": {},
   "outputs": [],
   "source": [
    "def test4(a,b):\n",
    "    if a%b==0:\n",
    "        return('its divisible')\n",
    "    else:\n",
    "        return('not divisible')\n",
    "def test5(u,v):\n",
    "    if type(u) and type(v)==int:\n",
    "        return test4(u,v)\n",
    "    else:\n",
    "        return('not integers')"
   ]
  },
  {
   "cell_type": "code",
   "execution_count": 19,
   "id": "96576157",
   "metadata": {},
   "outputs": [
    {
     "data": {
      "text/plain": [
       "'its divisible'"
      ]
     },
     "execution_count": 19,
     "metadata": {},
     "output_type": "execute_result"
    }
   ],
   "source": [
    "test5(9,3)"
   ]
  },
  {
   "cell_type": "markdown",
   "id": "e714fc21",
   "metadata": {},
   "source": [
    "5.write a function whihc will take multiple list as a input and give me concatnation of all the element as \n",
    "and output "
   ]
  },
  {
   "cell_type": "code",
   "execution_count": 21,
   "id": "85d882fa",
   "metadata": {},
   "outputs": [],
   "source": [
    "def test6(u,v,w):\n",
    "    k=[]\n",
    "    if type(u)==type(v)==type(w)==list:\n",
    "        l=[u,v,w]\n",
    "        for i in l:\n",
    "            k.extend(i)\n",
    "        print(k)\n",
    "    else:\n",
    "        print('Inputs is not list')\n",
    "\n",
    "        "
   ]
  },
  {
   "cell_type": "code",
   "execution_count": 22,
   "id": "1b7f4ded",
   "metadata": {},
   "outputs": [
    {
     "name": "stdout",
     "output_type": "stream",
     "text": [
      "[1, 2, 3, 4, 5, 6, 7, 8, 9]\n"
     ]
    }
   ],
   "source": [
    "test6([1,2,3],[4,5,6],[7,8,9])"
   ]
  },
  {
   "cell_type": "markdown",
   "id": "06ee6a51",
   "metadata": {},
   "source": [
    "6. write a function which will be able to take a list as an input return an index of each element \n",
    "like a inbuilt index function but even if we have repetative element it should return index "
   ]
  },
  {
   "cell_type": "code",
   "execution_count": null,
   "id": "3b8f323d",
   "metadata": {},
   "outputs": [],
   "source": []
  }
 ],
 "metadata": {
  "kernelspec": {
   "display_name": "Python 3 (ipykernel)",
   "language": "python",
   "name": "python3"
  },
  "language_info": {
   "codemirror_mode": {
    "name": "ipython",
    "version": 3
   },
   "file_extension": ".py",
   "mimetype": "text/x-python",
   "name": "python",
   "nbconvert_exporter": "python",
   "pygments_lexer": "ipython3",
   "version": "3.9.7"
  }
 },
 "nbformat": 4,
 "nbformat_minor": 5
}
